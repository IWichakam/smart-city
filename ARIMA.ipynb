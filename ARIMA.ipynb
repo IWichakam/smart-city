{
  "nbformat": 4,
  "nbformat_minor": 0,
  "metadata": {
    "colab": {
      "name": "ARIMA.ipynb",
      "version": "0.3.2",
      "provenance": [],
      "include_colab_link": true
    }
  },
  "cells": [
    {
      "cell_type": "markdown",
      "metadata": {
        "id": "view-in-github",
        "colab_type": "text"
      },
      "source": [
        "[View in Colaboratory](https://colab.research.google.com/github/IWichakam/smart-city/blob/master/ARIMA.ipynb)"
      ]
    },
    {
      "metadata": {
        "id": "Miue7N98CODy",
        "colab_type": "text"
      },
      "cell_type": "markdown",
      "source": [
        " \n",
        "# Time Series Forecast Case Study with Python: Annual Water Usage in Baltimore\n",
        "\n",
        "https://machinelearningmastery.com/time-series-forecast-study-python-annual-water-usage-baltimore/\n",
        "\n",
        "![alt text](https://3qeqpr26caki16dnhd19sv6by6v-wpengine.netdna-ssl.com/wp-content/uploads/2017/02/Time-Series-Forecast-Study-with-Python-Annual-Water-Usage-in-Baltimore.jpg)"
      ]
    },
    {
      "metadata": {
        "id": "flsM8nCUCmY-",
        "colab_type": "text"
      },
      "cell_type": "markdown",
      "source": [
        "## Environment"
      ]
    },
    {
      "metadata": {
        "id": "8Toe6FPMCP68",
        "colab_type": "code",
        "colab": {
          "base_uri": "https://localhost:8080/",
          "height": 119
        },
        "outputId": "539a1e6c-ebaa-4954-989f-fcd115e997ff"
      },
      "cell_type": "code",
      "source": [
        "# scipy\n",
        "import scipy\n",
        "print('scipy: %s' % scipy.__version__)\n",
        "# numpy\n",
        "import numpy\n",
        "print('numpy: %s' % numpy.__version__)\n",
        "# matplotlib\n",
        "import matplotlib\n",
        "print('matplotlib: %s' % matplotlib.__version__)\n",
        "# pandas\n",
        "import pandas\n",
        "print('pandas: %s' % pandas.__version__)\n",
        "# scikit-learn\n",
        "import sklearn\n",
        "print('sklearn: %s' % sklearn.__version__)\n",
        "# statsmodels\n",
        "import statsmodels\n",
        "print('statsmodels: %s' % statsmodels.__version__)"
      ],
      "execution_count": 30,
      "outputs": [
        {
          "output_type": "stream",
          "text": [
            "scipy: 0.19.1\n",
            "numpy: 1.14.5\n",
            "matplotlib: 2.1.2\n",
            "pandas: 0.22.0\n",
            "sklearn: 0.19.2\n",
            "statsmodels: 0.8.0\n"
          ],
          "name": "stdout"
        }
      ]
    },
    {
      "metadata": {
        "id": "MXmTzKd9Cp74",
        "colab_type": "text"
      },
      "cell_type": "markdown",
      "source": [
        "## Problem Description"
      ]
    },
    {
      "metadata": {
        "id": "XQBsTeDICvC9",
        "colab_type": "text"
      },
      "cell_type": "markdown",
      "source": [
        "The problem is to predict annual water usage.\n",
        "\n",
        "The dataset provides the annual water usage in Baltimore from 1885 to 1963, or 79 years of data.\n",
        "\n",
        "The values are in the units of liters per capita per day, and there are 79 observations.\n",
        "\n",
        "The dataset is credited to Hipel and McLeod, 1994.\n",
        "\n",
        "You can learn more about this dataset and download it directly from DataMarket: https://datamarket.com/data/set/22sl/baltmore-city-annual-water-use-liters-per-capita-per-day-1885-1968#!ds=22sl&display=line"
      ]
    },
    {
      "metadata": {
        "id": "Gx6oIS3BCzmS",
        "colab_type": "code",
        "colab": {
          "base_uri": "https://localhost:8080/",
          "height": 51
        },
        "outputId": "4ff5c2dd-fba5-495b-ee18-83c5fe635b57"
      },
      "cell_type": "code",
      "source": [
        "!wget https://github.com/IWichakam/smart-city/raw/master/baltmore-city-annual-water-use-l.csv"
      ],
      "execution_count": 10,
      "outputs": [
        {
          "output_type": "stream",
          "text": [
            "\n",
            "Redirecting output to ‘wget-log.1’.\n"
          ],
          "name": "stdout"
        }
      ]
    },
    {
      "metadata": {
        "id": "5n-91ALVEIp_",
        "colab_type": "text"
      },
      "cell_type": "markdown",
      "source": [
        "## Test Harness"
      ]
    },
    {
      "metadata": {
        "id": "ofRYhm1_FBDa",
        "colab_type": "text"
      },
      "cell_type": "markdown",
      "source": [
        "### Validation Dataset"
      ]
    },
    {
      "metadata": {
        "id": "RquDTZmMKxAd",
        "colab_type": "text"
      },
      "cell_type": "markdown",
      "source": [
        "The dataset is not current. This means that we cannot easily collect updated data to validate the model.\n",
        "\n",
        "Therefore, we will pretend that it is 1953 and withhold the last 10 years of data from analysis and model selection.\n",
        "\n",
        "This final decade of data will be used to validate the final model.\n",
        "\n",
        "The code below will load the dataset as a Pandas Series and split into two, one for model development (dataset.csv) and the other for validation (validation.csv)."
      ]
    },
    {
      "metadata": {
        "id": "4Rl23e5wENOP",
        "colab_type": "code",
        "colab": {
          "base_uri": "https://localhost:8080/",
          "height": 34
        },
        "outputId": "4d108252-6ac7-45d7-a5c4-f18a35d0ee49"
      },
      "cell_type": "code",
      "source": [
        "from pandas import Series\n",
        "series = Series.from_csv('baltmore-city-annual-water-use-l.csv', header=0)\n",
        "split_point = len(series) - 10\n",
        "dataset, validation = series[0:split_point], series[split_point:]\n",
        "print('Dataset %d, Validation %d' % (len(dataset), len(validation)))\n",
        "dataset.to_csv('dataset.csv')\n",
        "validation.to_csv('validation.csv')"
      ],
      "execution_count": 31,
      "outputs": [
        {
          "output_type": "stream",
          "text": [
            "Dataset 69, Validation 10\n"
          ],
          "name": "stdout"
        }
      ]
    },
    {
      "metadata": {
        "id": "m5y2FQ2MK5Yg",
        "colab_type": "text"
      },
      "cell_type": "markdown",
      "source": [
        "The specific contents of these files are:\n",
        "\n",
        "dataset.csv: Observations from 1885 to 1953 (69 observations).\n",
        "validation.csv: Observations from 1954 to 1963 (10 observations).\n",
        "The validation dataset is about 12% of the original dataset.\n",
        "\n",
        "Note that the saved datasets do not have a header line, therefore we do not need to cater to this when working with these files later."
      ]
    },
    {
      "metadata": {
        "id": "C6N5ckIpFc3s",
        "colab_type": "text"
      },
      "cell_type": "markdown",
      "source": [
        "## Data Analysis"
      ]
    },
    {
      "metadata": {
        "id": "jNLe1joRFceg",
        "colab_type": "code",
        "colab": {
          "base_uri": "https://localhost:8080/",
          "height": 170
        },
        "outputId": "ec848e6f-69e1-4cd5-abbe-42b06877a73d"
      },
      "cell_type": "code",
      "source": [
        "from pandas import Series\n",
        "series = Series.from_csv('dataset.csv')\n",
        "print(series.describe())"
      ],
      "execution_count": 32,
      "outputs": [
        {
          "output_type": "stream",
          "text": [
            "count     69.000000\n",
            "mean     500.478261\n",
            "std       73.901685\n",
            "min      344.000000\n",
            "25%      458.000000\n",
            "50%      492.000000\n",
            "75%      538.000000\n",
            "max      662.000000\n",
            "dtype: float64\n"
          ],
          "name": "stdout"
        }
      ]
    },
    {
      "metadata": {
        "id": "893y3K9TFQtG",
        "colab_type": "code",
        "colab": {
          "base_uri": "https://localhost:8080/",
          "height": 347
        },
        "outputId": "307a3736-fabf-4dc8-eec6-e88d66a179b2"
      },
      "cell_type": "code",
      "source": [
        "from pandas import Series\n",
        "from matplotlib import pyplot\n",
        "series = Series.from_csv('dataset.csv')\n",
        "series.plot()\n",
        "pyplot.show()"
      ],
      "execution_count": 33,
      "outputs": [
        {
          "output_type": "display_data",
          "data": {
            "image/png": "[encoded data removed]",
            "text/plain": [
              "<matplotlib.figure.Figure at 0x7fa5f4768ad0>"
            ]
          },
          "metadata": {
            "tags": []
          }
        }
      ]
    },
    {
      "metadata": {
        "id": "rgXYlHO3Fmh9",
        "colab_type": "code",
        "colab": {
          "base_uri": "https://localhost:8080/",
          "height": 347
        },
        "outputId": "4ae74bae-3fa9-46f7-eb86-2fb7c8d32845"
      },
      "cell_type": "code",
      "source": [
        "from pandas import Series\n",
        "from matplotlib import pyplot\n",
        "series = Series.from_csv('dataset.csv')\n",
        "pyplot.figure(1)\n",
        "pyplot.subplot(211)\n",
        "series.hist()\n",
        "pyplot.subplot(212)\n",
        "series.plot(kind='kde')\n",
        "pyplot.show()"
      ],
      "execution_count": 34,
      "outputs": [
        {
          "output_type": "display_data",
          "data": {
            "image/png": "[encoded data removed]",
            "text/plain": [
              "<matplotlib.figure.Figure at 0x7fa5f2e35590>"
            ]
          },
          "metadata": {
            "tags": []
          }
        }
      ]
    },
    {
      "metadata": {
        "id": "6ux8CyXcGBAS",
        "colab_type": "text"
      },
      "cell_type": "markdown",
      "source": [
        "## ARIMA Models"
      ]
    },
    {
      "metadata": {
        "id": "YwZZvrk8I4kG",
        "colab_type": "text"
      },
      "cell_type": "markdown",
      "source": [
        "The ARIMA(p,d,q) model requires three parameters and is traditionally configured manually.\n",
        "\n",
        "Analysis of the time series data assumes that we are working with a stationary time series.\n",
        "\n",
        "The time series is likely non-stationary. We can make it stationary by first differencing the series and using a statistical test to confirm that the result is stationary.\n",
        "\n",
        "The example below creates a stationary version of the series and saves it to file stationary.csv."
      ]
    },
    {
      "metadata": {
        "id": "ieNcAV4MFvzr",
        "colab_type": "code",
        "colab": {
          "base_uri": "https://localhost:8080/",
          "height": 449
        },
        "outputId": "65f763b6-0bf4-48a3-86ca-ec4c4ef8f0a1"
      },
      "cell_type": "code",
      "source": [
        "from pandas import Series\n",
        "from statsmodels.tsa.stattools import adfuller\n",
        "from matplotlib import pyplot\n",
        "\n",
        "# create a differe\n",
        "def difference(dataset):\n",
        "\tdiff = list()\n",
        "\tfor i in range(1, len(dataset)):\n",
        "\t\tvalue = dataset[i] - dataset[i - 1]\n",
        "\t\tdiff.append(value)\n",
        "\treturn Series(diff)\n",
        "\n",
        "series = Series.from_csv('dataset.csv')\n",
        "X = series.values\n",
        "X = X.astype('float32')\n",
        "# difference data\n",
        "stationary = difference(X)\n",
        "stationary.index = series.index[1:]\n",
        "# check if stationary\n",
        "result = adfuller(stationary)\n",
        "print('ADF Statistic: %f' % result[0])\n",
        "print('p-value: %f' % result[1])\n",
        "print('Critical Values:')\n",
        "for key, value in result[4].items():\n",
        "\tprint('\\t%s: %.3f' % (key, value))\n",
        "# plot differenced data\n",
        "stationary.plot()\n",
        "pyplot.show()\n",
        "# save\n",
        "stationary.to_csv('stationary.csv')"
      ],
      "execution_count": 35,
      "outputs": [
        {
          "output_type": "stream",
          "text": [
            "ADF Statistic: -6.126719\n",
            "p-value: 0.000000\n",
            "Critical Values:\n",
            "\t5%: -2.906\n",
            "\t1%: -3.534\n",
            "\t10%: -2.591\n"
          ],
          "name": "stdout"
        },
        {
          "output_type": "display_data",
          "data": {
            "image/png": "[encoded data removed]",
            "text/plain": [
              "<matplotlib.figure.Figure at 0x7fa5f2d92850>"
            ]
          },
          "metadata": {
            "tags": []
          }
        }
      ]
    },
    {
      "metadata": {
        "id": "SF8yHJ7tI-5I",
        "colab_type": "text"
      },
      "cell_type": "markdown",
      "source": [
        "Running the example outputs the result of a statistical significance test of whether the differenced series is stationary. Specifically, the augmented Dickey-Fuller test.\n",
        "\n",
        "The results show that the test statistic value -6.126719 is smaller than the critical value at 1% of -3.534. This suggests that we can reject the null hypothesis with a significance level of less than 1% (i.e. a low probability that the result is a statistical fluke).\n",
        "\n",
        "Rejecting the null hypothesis means that the process has no unit root, and in turn that the time series is stationary or does not have time-dependent structure.\n",
        "\n",
        "This suggests that at least one level of differencing is required. The d parameter in our ARIMA model should at least be a value of 1.\n",
        "\n",
        "A plot of the differenced data is also created. It suggests that this has indeed removed the increasing trend."
      ]
    },
    {
      "metadata": {
        "id": "lMZC3c-tGL5_",
        "colab_type": "text"
      },
      "cell_type": "markdown",
      "source": [
        "The next first step is to select the lag values for the Autoregression (AR) and Moving Average (MA) parameters, p and q respectively.\n",
        "\n",
        "We can do this by reviewing Autocorrelation Function (ACF) and Partial Autocorrelation Function (PACF) plots.\n",
        "\n",
        "The example below creates ACF and PACF plots for the series."
      ]
    },
    {
      "metadata": {
        "id": "NvTYtTVgGQUx",
        "colab_type": "text"
      },
      "cell_type": "markdown",
      "source": [
        "Below are some observations from the plots.\n",
        "\n",
        "* The ACF shows no significant lags.\n",
        "* The PACF shows significant spikes at lag 1 and 2.\n",
        "\n",
        "A good starting point for the p and q values are 2 and 0."
      ]
    },
    {
      "metadata": {
        "id": "7peaQT9uGF1J",
        "colab_type": "code",
        "colab": {
          "base_uri": "https://localhost:8080/",
          "height": 362
        },
        "outputId": "81e2df62-31d1-4344-d80f-01b359baade6"
      },
      "cell_type": "code",
      "source": [
        "from pandas import Series\n",
        "from statsmodels.graphics.tsaplots import plot_acf\n",
        "from statsmodels.graphics.tsaplots import plot_pacf\n",
        "from matplotlib import pyplot\n",
        "series = Series.from_csv('dataset.csv')\n",
        "pyplot.figure()\n",
        "pyplot.subplot(211)\n",
        "plot_acf(series, ax=pyplot.gca())\n",
        "pyplot.subplot(212)\n",
        "plot_pacf(series, ax=pyplot.gca())\n",
        "pyplot.show()"
      ],
      "execution_count": 36,
      "outputs": [
        {
          "output_type": "display_data",
          "data": {
            "image/png": "[encoded data removed]",
            "text/plain": [
              "<matplotlib.figure.Figure at 0x7fa5f2e2b250>"
            ]
          },
          "metadata": {
            "tags": []
          }
        }
      ]
    },
    {
      "metadata": {
        "id": "2Z_xWdXPGoyB",
        "colab_type": "text"
      },
      "cell_type": "markdown",
      "source": [
        "This quick analysis suggests an ARIMA(2,1,0) on the raw data may be a good starting point."
      ]
    },
    {
      "metadata": {
        "id": "c5ilTYDFGIvB",
        "colab_type": "code",
        "colab": {
          "base_uri": "https://localhost:8080/",
          "height": 629
        },
        "outputId": "c2732cb1-84a3-4b97-80bf-2bf3c240dad4"
      },
      "cell_type": "code",
      "source": [
        "from pandas import Series\n",
        "from sklearn.metrics import mean_squared_error\n",
        "from statsmodels.tsa.arima_model import ARIMA\n",
        "from math import sqrt\n",
        "# load data\n",
        "series = Series.from_csv('dataset.csv')\n",
        "# prepare data\n",
        "X = series.values\n",
        "X = X.astype('float32')\n",
        "train_size = int(len(X) * 0.50)\n",
        "train, test = X[0:train_size], X[train_size:]\n",
        "# walk-forward validation\n",
        "history = [x for x in train]\n",
        "predictions = list()\n",
        "for i in range(len(test)):\n",
        "\t# predict\n",
        "\tmodel = ARIMA(history, order=(2,1,0))\n",
        "\tmodel_fit = model.fit(disp=0)\n",
        "\tyhat = model_fit.forecast()[0]\n",
        "\tpredictions.append(yhat)\n",
        "\t# observation\n",
        "\tobs = test[i]\n",
        "\thistory.append(obs)\n",
        "\tprint('>Predicted=%.3f, Expected=%3.f' % (yhat, obs))\n",
        "# report performance\n",
        "mse = mean_squared_error(test, predictions)\n",
        "rmse = sqrt(mse)\n",
        "print('RMSE: %.3f' % rmse)"
      ],
      "execution_count": 38,
      "outputs": [
        {
          "output_type": "stream",
          "text": [
            ">Predicted=506.539, Expected=503\n",
            ">Predicted=509.686, Expected=503\n",
            ">Predicted=507.453, Expected=515\n",
            ">Predicted=519.821, Expected=522\n",
            ">Predicted=525.780, Expected=492\n",
            ">Predicted=494.875, Expected=503\n",
            ">Predicted=509.868, Expected=503\n",
            ">Predicted=505.934, Expected=450\n",
            ">Predicted=452.049, Expected=432\n",
            ">Predicted=438.515, Expected=432\n",
            ">Predicted=435.451, Expected=458\n",
            ">Predicted=461.069, Expected=462\n",
            ">Predicted=462.051, Expected=503\n",
            ">Predicted=507.090, Expected=488\n",
            ">Predicted=487.307, Expected=466\n",
            ">Predicted=469.348, Expected=492\n",
            ">Predicted=497.501, Expected=503\n",
            ">Predicted=503.665, Expected=515\n",
            ">Predicted=517.442, Expected=500\n",
            ">Predicted=501.526, Expected=522\n",
            ">Predicted=527.024, Expected=575\n",
            ">Predicted=578.166, Expected=583\n",
            ">Predicted=581.937, Expected=587\n",
            ">Predicted=590.672, Expected=628\n",
            ">Predicted=633.763, Expected=640\n",
            ">Predicted=641.388, Expected=609\n",
            ">Predicted=611.403, Expected=606\n",
            ">Predicted=614.049, Expected=632\n",
            ">Predicted=638.005, Expected=617\n",
            ">Predicted=618.047, Expected=613\n",
            ">Predicted=619.229, Expected=598\n",
            ">Predicted=602.199, Expected=575\n",
            ">Predicted=579.662, Expected=564\n",
            ">Predicted=569.584, Expected=549\n",
            ">Predicted=552.628, Expected=538\n",
            "RMSE: 22.084\n"
          ],
          "name": "stdout"
        }
      ]
    },
    {
      "metadata": {
        "id": "gae7lUyRGuT3",
        "colab_type": "text"
      },
      "cell_type": "markdown",
      "source": [
        "Grid Search ARIMA Hyperparameters\n",
        "\n",
        "The ACF and PACF plots suggest that we cannot do better than a persistence model on this dataset.\n",
        "\n",
        "To confirm this analysis, we can grid search a suite of ARIMA hyperparameters and check that no models result in better out of sample RMSE performance.\n",
        "\n",
        "In this section, we will search values of p, d, and q for combinations (skipping those that fail to converge), and find the combination that results in the best performance. We will use a grid search to explore all combinations in a subset of integer values.\n",
        "\n",
        "Specifically, we will search all combinations of the following parameters:\n",
        "\n",
        "* p: 0 to 4.\n",
        "* d: 0 to 2.\n",
        "* q: 0 to 4.\n",
        "\n",
        "We will also disable the automatic addition of a trend constant from the model by setting the ‘trend‘ argument to ‘nc‘ for no constant when calling fit().\n",
        "\n",
        "The complete worked example with the grid search version of the test harness is listed below."
      ]
    },
    {
      "metadata": {
        "id": "hUPVDfK8Gr07",
        "colab_type": "code",
        "colab": {
          "base_uri": "https://localhost:8080/",
          "height": 442
        },
        "outputId": "bed765d9-40d4-4443-f6d3-e0ddde123719"
      },
      "cell_type": "code",
      "source": [
        "import warnings\n",
        "from pandas import Series\n",
        "from statsmodels.tsa.arima_model import ARIMA\n",
        "from sklearn.metrics import mean_squared_error\n",
        "from math import sqrt\n",
        "\n",
        "# evaluate an ARIMA model for a given order (p,d,q) and return RMSE\n",
        "def evaluate_arima_model(X, arima_order):\n",
        "\t# prepare training dataset\n",
        "\tX = X.astype('float32')\n",
        "\ttrain_size = int(len(X) * 0.50)\n",
        "\ttrain, test = X[0:train_size], X[train_size:]\n",
        "\thistory = [x for x in train]\n",
        "\t# make predictions\n",
        "\tpredictions = list()\n",
        "\tfor t in range(len(test)):\n",
        "\t\tmodel = ARIMA(history, order=arima_order)\n",
        "\t\t# model_fit = model.fit(disp=0)\n",
        "\t\tmodel_fit = model.fit(trend='nc', disp=0)\n",
        "\t\tyhat = model_fit.forecast()[0]\n",
        "\t\tpredictions.append(yhat)\n",
        "\t\thistory.append(test[t])\n",
        "\t# calculate out of sample error\n",
        "\tmse = mean_squared_error(test, predictions)\n",
        "\trmse = sqrt(mse)\n",
        "\treturn rmse\n",
        "\n",
        "# evaluate combinations of p, d and q values for an ARIMA model\n",
        "def evaluate_models(dataset, p_values, d_values, q_values):\n",
        "\tdataset = dataset.astype('float32')\n",
        "\tbest_score, best_cfg = float(\"inf\"), None\n",
        "\tfor p in p_values:\n",
        "\t\tfor d in d_values:\n",
        "\t\t\tfor q in q_values:\n",
        "\t\t\t\torder = (p,d,q)\n",
        "\t\t\t\ttry:\n",
        "\t\t\t\t\tmse = evaluate_arima_model(dataset, order)\n",
        "\t\t\t\t\tif mse < best_score:\n",
        "\t\t\t\t\t\tbest_score, best_cfg = mse, order\n",
        "\t\t\t\t\tprint('ARIMA%s RMSE=%.3f' % (order,mse))\n",
        "\t\t\t\texcept:\n",
        "\t\t\t\t\tcontinue\n",
        "\tprint('Best ARIMA%s RMSE=%.3f' % (best_cfg, best_score))\n",
        "\n",
        "# load dataset\n",
        "series = Series.from_csv('dataset.csv')\n",
        "# evaluate parameters\n",
        "p_values = range(0, 5)\n",
        "d_values = range(0, 3)\n",
        "q_values = range(0, 5)\n",
        "warnings.filterwarnings(\"ignore\")\n",
        "evaluate_models(series.values, p_values, d_values, q_values)"
      ],
      "execution_count": 39,
      "outputs": [
        {
          "output_type": "stream",
          "text": [
            "ARIMA(0, 0, 1) RMSE=282.656\n",
            "ARIMA(0, 0, 4) RMSE=77.343\n",
            "ARIMA(0, 1, 1) RMSE=21.907\n",
            "ARIMA(0, 1, 2) RMSE=22.182\n",
            "ARIMA(0, 1, 3) RMSE=24.733\n",
            "ARIMA(0, 1, 4) RMSE=24.845\n",
            "ARIMA(0, 2, 1) RMSE=22.381\n",
            "ARIMA(0, 2, 2) RMSE=22.244\n",
            "ARIMA(1, 0, 0) RMSE=21.996\n",
            "ARIMA(1, 1, 0) RMSE=21.922\n",
            "ARIMA(1, 2, 0) RMSE=27.464\n",
            "ARIMA(1, 2, 1) RMSE=22.271\n",
            "ARIMA(2, 1, 0) RMSE=21.733\n",
            "ARIMA(2, 2, 0) RMSE=25.282\n",
            "ARIMA(3, 1, 0) RMSE=24.270\n",
            "ARIMA(3, 1, 1) RMSE=25.491\n",
            "ARIMA(3, 2, 0) RMSE=25.625\n",
            "ARIMA(3, 2, 1) RMSE=25.008\n",
            "ARIMA(4, 0, 0) RMSE=25.374\n",
            "ARIMA(4, 1, 0) RMSE=24.802\n",
            "ARIMA(4, 1, 1) RMSE=25.103\n",
            "ARIMA(4, 2, 0) RMSE=27.089\n",
            "ARIMA(4, 2, 1) RMSE=25.933\n",
            "ARIMA(4, 2, 2) RMSE=25.418\n",
            "Best ARIMA(2, 1, 0) RMSE=21.733\n"
          ],
          "name": "stdout"
        }
      ]
    },
    {
      "metadata": {
        "id": "PGRCO_czJ9nf",
        "colab_type": "text"
      },
      "cell_type": "markdown",
      "source": [
        "The results show that the best configuration discovered was ARIMA(2, 1, 0) with an RMSE of 21.733, slightly lower than the manual persistence model tested earlier, but may or may not be significantly different."
      ]
    },
    {
      "metadata": {
        "id": "r0V4_5rZG9tL",
        "colab_type": "text"
      },
      "cell_type": "markdown",
      "source": [
        "## Review Residual Errors"
      ]
    },
    {
      "metadata": {
        "id": "94KoIbeOHDoG",
        "colab_type": "text"
      },
      "cell_type": "markdown",
      "source": [
        "We can check this by using summary statistics and plots to investigate the residual errors from the ARIMA(2, 1, 0) model. The example below calculates and summarizes the residual forecast errors."
      ]
    },
    {
      "metadata": {
        "id": "PZnzLs9TGwym",
        "colab_type": "code",
        "colab": {
          "base_uri": "https://localhost:8080/",
          "height": 515
        },
        "outputId": "81e331df-66d4-4bc4-99a4-979f23af5f9e"
      },
      "cell_type": "code",
      "source": [
        "from pandas import Series\n",
        "from pandas import DataFrame\n",
        "from sklearn.metrics import mean_squared_error\n",
        "from statsmodels.tsa.arima_model import ARIMA\n",
        "from math import sqrt\n",
        "from matplotlib import pyplot\n",
        "# load data\n",
        "series = Series.from_csv('dataset.csv')\n",
        "# prepare data\n",
        "X = series.values\n",
        "X = X.astype('float32')\n",
        "train_size = int(len(X) * 0.50)\n",
        "train, test = X[0:train_size], X[train_size:]\n",
        "# walk-forward validation\n",
        "history = [x for x in train]\n",
        "predictions = list()\n",
        "for i in range(len(test)):\n",
        "\t# predict\n",
        "\tmodel = ARIMA(history, order=(2,1,0))\n",
        "\tmodel_fit = model.fit(trend='nc', disp=0)\n",
        "\tyhat = model_fit.forecast()[0]\n",
        "\tpredictions.append(yhat)\n",
        "\t# observation\n",
        "\tobs = test[i]\n",
        "\thistory.append(obs)\n",
        "# errors\n",
        "residuals = [test[i]-predictions[i] for i in range(len(test))]\n",
        "residuals = DataFrame(residuals)\n",
        "print(residuals.describe())\n",
        "pyplot.figure()\n",
        "pyplot.subplot(211)\n",
        "residuals.hist(ax=pyplot.gca())\n",
        "pyplot.subplot(212)\n",
        "residuals.plot(kind='kde', ax=pyplot.gca())\n",
        "pyplot.show()"
      ],
      "execution_count": 40,
      "outputs": [
        {
          "output_type": "stream",
          "text": [
            "               0\n",
            "count  35.000000\n",
            "mean    1.081624\n",
            "std    22.022566\n",
            "min   -52.103811\n",
            "25%   -16.202284\n",
            "50%    -0.459805\n",
            "75%    12.085091\n",
            "max    51.284339\n"
          ],
          "name": "stdout"
        },
        {
          "output_type": "display_data",
          "data": {
            "image/png": "[encoded data removed]",
            "text/plain": [
              "<matplotlib.figure.Figure at 0x7fa5f2b2ca50>"
            ]
          },
          "metadata": {
            "tags": []
          }
        }
      ]
    },
    {
      "metadata": {
        "id": "M0sDymU6ICRu",
        "colab_type": "text"
      },
      "cell_type": "markdown",
      "source": [
        "The graphs suggest a Gaussian-like distribution with a longer right tail, providing further evidence that perhaps a power transform might be worth exploring.\n",
        "\n",
        "We could use this information to bias-correct predictions by adding the mean residual error of 1.081624 to each forecast made."
      ]
    },
    {
      "metadata": {
        "id": "gF5-jGMyHN6w",
        "colab_type": "text"
      },
      "cell_type": "markdown",
      "source": [
        "## Model Validation"
      ]
    },
    {
      "metadata": {
        "id": "frxqEtTDIFxQ",
        "colab_type": "text"
      },
      "cell_type": "markdown",
      "source": [
        "The example below performs this bias-correction."
      ]
    },
    {
      "metadata": {
        "id": "tlDjx_kJHGCd",
        "colab_type": "code",
        "colab": {}
      },
      "cell_type": "code",
      "source": [
        "from pandas import Series\n",
        "from statsmodels.tsa.arima_model import ARIMA\n",
        "from scipy.stats import boxcox\n",
        "import numpy\n",
        "\n",
        "# monkey patch around bug in ARIMA class\n",
        "def __getnewargs__(self):\n",
        "\treturn ((self.endog),(self.k_lags, self.k_diff, self.k_ma))\n",
        "\n",
        "ARIMA.__getnewargs__ = __getnewargs__\n",
        "\n",
        "# load data\n",
        "series = Series.from_csv('dataset.csv')\n",
        "# prepare data\n",
        "X = series.values\n",
        "X = X.astype('float32')\n",
        "# fit model\n",
        "model = ARIMA(X, order=(2,1,0))\n",
        "model_fit = model.fit(trend='nc', disp=0)\n",
        "# bias constant, could be calculated from in-sample mean residual\n",
        "bias = 1.081624\n",
        "# save model\n",
        "model_fit.save('model.pkl')\n",
        "numpy.save('model_bias.npy', [bias])"
      ],
      "execution_count": 0,
      "outputs": []
    },
    {
      "metadata": {
        "id": "g4EmLEM9HSey",
        "colab_type": "code",
        "colab": {
          "base_uri": "https://localhost:8080/",
          "height": 34
        },
        "outputId": "75957340-e202-47a2-e552-a23eb4557d74"
      },
      "cell_type": "code",
      "source": [
        "from pandas import Series\n",
        "from statsmodels.tsa.arima_model import ARIMAResults\n",
        "import numpy\n",
        "model_fit = ARIMAResults.load('model.pkl')\n",
        "bias = numpy.load('model_bias.npy')\n",
        "yhat = bias + float(model_fit.forecast()[0])\n",
        "print('Predicted: %.3f' % yhat)"
      ],
      "execution_count": 42,
      "outputs": [
        {
          "output_type": "stream",
          "text": [
            "Predicted: 540.013\n"
          ],
          "name": "stdout"
        }
      ]
    },
    {
      "metadata": {
        "id": "SHGaI5EzHbW4",
        "colab_type": "text"
      },
      "cell_type": "markdown",
      "source": [
        "### Validate Model"
      ]
    },
    {
      "metadata": {
        "id": "tXjUjbIxHUtD",
        "colab_type": "code",
        "colab": {
          "base_uri": "https://localhost:8080/",
          "height": 534
        },
        "outputId": "4423a2c4-c92d-443f-864e-2f504248dd53"
      },
      "cell_type": "code",
      "source": [
        "from pandas import Series\n",
        "from matplotlib import pyplot\n",
        "from statsmodels.tsa.arima_model import ARIMA\n",
        "from statsmodels.tsa.arima_model import ARIMAResults\n",
        "from sklearn.metrics import mean_squared_error\n",
        "from math import sqrt\n",
        "import numpy\n",
        "# load and prepare datasets\n",
        "dataset = Series.from_csv('dataset.csv')\n",
        "X = dataset.values.astype('float32')\n",
        "history = [x for x in X]\n",
        "validation = Series.from_csv('validation.csv')\n",
        "y = validation.values.astype('float32')\n",
        "# load model\n",
        "model_fit = ARIMAResults.load('model.pkl')\n",
        "bias = numpy.load('model_bias.npy')\n",
        "# make first prediction\n",
        "predictions = list()\n",
        "yhat = bias + float(model_fit.forecast()[0])\n",
        "predictions.append(yhat)\n",
        "history.append(y[0])\n",
        "print('>Predicted=%.3f, Expected=%3.f' % (yhat, y[0]))\n",
        "# rolling forecasts\n",
        "for i in range(1, len(y)):\n",
        "\t# predict\n",
        "\tmodel = ARIMA(history, order=(2,1,0))\n",
        "\tmodel_fit = model.fit(trend='nc', disp=0)\n",
        "\tyhat = bias + float(model_fit.forecast()[0])\n",
        "\tpredictions.append(yhat)\n",
        "\t# observation\n",
        "\tobs = y[i]\n",
        "\thistory.append(obs)\n",
        "\tprint('>Predicted=%.3f, Expected=%3.f' % (yhat, obs))\n",
        "# report performance\n",
        "mse = mean_squared_error(y, predictions)\n",
        "rmse = sqrt(mse)\n",
        "print('RMSE: %.3f' % rmse)\n",
        "pyplot.plot(y)\n",
        "pyplot.plot(predictions, color='red')\n",
        "pyplot.show()"
      ],
      "execution_count": 43,
      "outputs": [
        {
          "output_type": "stream",
          "text": [
            ">Predicted=540.013, Expected=568\n",
            ">Predicted=571.589, Expected=575\n",
            ">Predicted=573.289, Expected=579\n",
            ">Predicted=579.561, Expected=587\n",
            ">Predicted=588.063, Expected=602\n",
            ">Predicted=603.022, Expected=594\n",
            ">Predicted=593.178, Expected=587\n",
            ">Predicted=588.558, Expected=587\n",
            ">Predicted=588.797, Expected=625\n",
            ">Predicted=627.941, Expected=613\n",
            "RMSE: 16.532\n"
          ],
          "name": "stdout"
        },
        {
          "output_type": "display_data",
          "data": {
            "image/png": "[encoded data removed]",
            "text/plain": [
              "<matplotlib.figure.Figure at 0x7fa5f2cd14d0>"
            ]
          },
          "metadata": {
            "tags": []
          }
        }
      ]
    },
    {
      "metadata": {
        "id": "DC7203OujIym",
        "colab_type": "code",
        "colab": {}
      },
      "cell_type": "code",
      "source": [
        ""
      ],
      "execution_count": 0,
      "outputs": []
    }
  ]
}