{
  "nbformat": 4,
  "nbformat_minor": 0,
  "metadata": {
    "colab": {
      "name": "DBSCAN.ipynb",
      "version": "0.3.2",
      "provenance": [],
      "include_colab_link": true
    },
    "kernelspec": {
      "display_name": "Python 3",
      "language": "python",
      "name": "python3"
    }
  },
  "cells": [
    {
      "cell_type": "markdown",
      "metadata": {
        "id": "view-in-github",
        "colab_type": "text"
      },
      "source": [
        "[View in Colaboratory](https://colab.research.google.com/github/IWichakam/smart-city/blob/master/DBSCAN.ipynb)"
      ]
    },
    {
      "metadata": {
        "id": "ohD314amL7Y4",
        "colab_type": "code",
        "colab": {}
      },
      "cell_type": "code",
      "source": [
        "import math\n",
        "\n",
        "import pandas as pd\n",
        "import numpy as np\n",
        "import matplotlib.pyplot as plt\n",
        "\n",
        "from sklearn.cluster import DBSCAN\n",
        "\n",
        "%matplotlib inline"
      ],
      "execution_count": 0,
      "outputs": []
    },
    {
      "metadata": {
        "id": "PUElPeLLL7Y_",
        "colab_type": "text"
      },
      "cell_type": "markdown",
      "source": [
        "# Read raw data"
      ]
    },
    {
      "metadata": {
        "id": "jgXa0EtycKAc",
        "colab_type": "code",
        "colab": {
          "base_uri": "https://localhost:8080/",
          "height": 51
        },
        "outputId": "abfecf0f-f8d8-4400-b59b-a0eba4e847bf"
      },
      "cell_type": "code",
      "source": [
        "!wget https://github.com/IWichakam/smart-city/raw/master/1701010000-1703010000_sample.csv"
      ],
      "execution_count": 9,
      "outputs": [
        {
          "output_type": "stream",
          "text": [
            "\n",
            "Redirecting output to ‘wget-log.5’.\n"
          ],
          "name": "stdout"
        }
      ]
    },
    {
      "metadata": {
        "id": "oPSXcWeaL7ZC",
        "colab_type": "code",
        "colab": {}
      },
      "cell_type": "code",
      "source": [
        "raw_fname = '1701010000-1703010000_sample.csv'"
      ],
      "execution_count": 0,
      "outputs": []
    },
    {
      "metadata": {
        "id": "hgjV3hIRL7ZI",
        "colab_type": "code",
        "colab": {
          "base_uri": "https://localhost:8080/",
          "height": 102
        },
        "outputId": "a2eabf3b-c306-481e-8aa2-9bf44d797a52"
      },
      "cell_type": "code",
      "source": [
        "!head {raw_fname} -n 5"
      ],
      "execution_count": 100,
      "outputs": [
        {
          "output_type": "stream",
          "text": [
            "\"id\";\"time\";\"attrstring\";\"value\"\n",
            "\"ee/fl1/emu10x/sub14/phase_s/load15/monitor/energy\";\"2017-01-01 00:00:00+07\";\"\";\"0.017\"\n",
            "\"ee/fl1/corridor/elevator_front/z1/outlet1/monitor/energy\";\"2017-01-01 00:00:00+07\";\"\";\"1.051\"\n",
            "\"ee/fl2/west/storeroom_office/z1/sensor1/monitor/humidity\";\"2017-01-01 00:00:00+07\";\"\";\"44.6\"\n",
            "\"ee/fl2/west/storeroom_office/z1/sensor1/monitor/humidity\";\"2017-01-01 00:00:59+07\";\"\";\"44.6\"\n"
          ],
          "name": "stdout"
        }
      ]
    },
    {
      "metadata": {
        "id": "eHz0j7ENL7ZW",
        "colab_type": "code",
        "colab": {}
      },
      "cell_type": "code",
      "source": [
        "wholefile = pd.read_csv(raw_fname, low_memory=False, sep=';')"
      ],
      "execution_count": 0,
      "outputs": []
    },
    {
      "metadata": {
        "id": "xCH2kkIvL7Zb",
        "colab_type": "code",
        "colab": {
          "base_uri": "https://localhost:8080/",
          "height": 204
        },
        "outputId": "1f00b60a-dd5e-41fe-ff0f-ba2433700d8d"
      },
      "cell_type": "code",
      "source": [
        "wholefile.head()"
      ],
      "execution_count": 80,
      "outputs": [
        {
          "output_type": "execute_result",
          "data": {
            "text/html": [
              "<div>\n",
              "<style scoped>\n",
              "    .dataframe tbody tr th:only-of-type {\n",
              "        vertical-align: middle;\n",
              "    }\n",
              "\n",
              "    .dataframe tbody tr th {\n",
              "        vertical-align: top;\n",
              "    }\n",
              "\n",
              "    .dataframe thead th {\n",
              "        text-align: right;\n",
              "    }\n",
              "</style>\n",
              "<table border=\"1\" class=\"dataframe\">\n",
              "  <thead>\n",
              "    <tr style=\"text-align: right;\">\n",
              "      <th></th>\n",
              "      <th>id</th>\n",
              "      <th>time</th>\n",
              "      <th>attrstring</th>\n",
              "      <th>value</th>\n",
              "    </tr>\n",
              "  </thead>\n",
              "  <tbody>\n",
              "    <tr>\n",
              "      <th>0</th>\n",
              "      <td>ee/fl1/emu10x/sub14/phase_s/load15/monitor/energy</td>\n",
              "      <td>2017-01-01 00:00:00+07</td>\n",
              "      <td>NaN</td>\n",
              "      <td>0.017</td>\n",
              "    </tr>\n",
              "    <tr>\n",
              "      <th>1</th>\n",
              "      <td>ee/fl1/corridor/elevator_front/z1/outlet1/moni...</td>\n",
              "      <td>2017-01-01 00:00:00+07</td>\n",
              "      <td>NaN</td>\n",
              "      <td>1.051</td>\n",
              "    </tr>\n",
              "    <tr>\n",
              "      <th>2</th>\n",
              "      <td>ee/fl2/west/storeroom_office/z1/sensor1/monito...</td>\n",
              "      <td>2017-01-01 00:00:00+07</td>\n",
              "      <td>NaN</td>\n",
              "      <td>44.600</td>\n",
              "    </tr>\n",
              "    <tr>\n",
              "      <th>3</th>\n",
              "      <td>ee/fl2/west/storeroom_office/z1/sensor1/monito...</td>\n",
              "      <td>2017-01-01 00:00:59+07</td>\n",
              "      <td>NaN</td>\n",
              "      <td>44.600</td>\n",
              "    </tr>\n",
              "    <tr>\n",
              "      <th>4</th>\n",
              "      <td>ee/fl1/emu10x/sub14/phase_s/load15/monitor/energy</td>\n",
              "      <td>2017-01-01 00:01:00+07</td>\n",
              "      <td>NaN</td>\n",
              "      <td>0.019</td>\n",
              "    </tr>\n",
              "  </tbody>\n",
              "</table>\n",
              "</div>"
            ],
            "text/plain": [
              "                                                  id                    time  \\\n",
              "0  ee/fl1/emu10x/sub14/phase_s/load15/monitor/energy  2017-01-01 00:00:00+07   \n",
              "1  ee/fl1/corridor/elevator_front/z1/outlet1/moni...  2017-01-01 00:00:00+07   \n",
              "2  ee/fl2/west/storeroom_office/z1/sensor1/monito...  2017-01-01 00:00:00+07   \n",
              "3  ee/fl2/west/storeroom_office/z1/sensor1/monito...  2017-01-01 00:00:59+07   \n",
              "4  ee/fl1/emu10x/sub14/phase_s/load15/monitor/energy  2017-01-01 00:01:00+07   \n",
              "\n",
              "   attrstring   value  \n",
              "0         NaN   0.017  \n",
              "1         NaN   1.051  \n",
              "2         NaN  44.600  \n",
              "3         NaN  44.600  \n",
              "4         NaN   0.019  "
            ]
          },
          "metadata": {
            "tags": []
          },
          "execution_count": 80
        }
      ]
    },
    {
      "metadata": {
        "id": "Blp2onM7L7Zh",
        "colab_type": "code",
        "colab": {}
      },
      "cell_type": "code",
      "source": [
        "wholefile.drop('attrstring', axis=1, inplace=True)"
      ],
      "execution_count": 0,
      "outputs": []
    },
    {
      "metadata": {
        "id": "wwuTfNl1L7Zm",
        "colab_type": "code",
        "colab": {
          "base_uri": "https://localhost:8080/",
          "height": 204
        },
        "outputId": "f27aaec6-2215-4ac5-97bf-114b29672588"
      },
      "cell_type": "code",
      "source": [
        "wholefile.head()"
      ],
      "execution_count": 82,
      "outputs": [
        {
          "output_type": "execute_result",
          "data": {
            "text/html": [
              "<div>\n",
              "<style scoped>\n",
              "    .dataframe tbody tr th:only-of-type {\n",
              "        vertical-align: middle;\n",
              "    }\n",
              "\n",
              "    .dataframe tbody tr th {\n",
              "        vertical-align: top;\n",
              "    }\n",
              "\n",
              "    .dataframe thead th {\n",
              "        text-align: right;\n",
              "    }\n",
              "</style>\n",
              "<table border=\"1\" class=\"dataframe\">\n",
              "  <thead>\n",
              "    <tr style=\"text-align: right;\">\n",
              "      <th></th>\n",
              "      <th>id</th>\n",
              "      <th>time</th>\n",
              "      <th>value</th>\n",
              "    </tr>\n",
              "  </thead>\n",
              "  <tbody>\n",
              "    <tr>\n",
              "      <th>0</th>\n",
              "      <td>ee/fl1/emu10x/sub14/phase_s/load15/monitor/energy</td>\n",
              "      <td>2017-01-01 00:00:00+07</td>\n",
              "      <td>0.017</td>\n",
              "    </tr>\n",
              "    <tr>\n",
              "      <th>1</th>\n",
              "      <td>ee/fl1/corridor/elevator_front/z1/outlet1/moni...</td>\n",
              "      <td>2017-01-01 00:00:00+07</td>\n",
              "      <td>1.051</td>\n",
              "    </tr>\n",
              "    <tr>\n",
              "      <th>2</th>\n",
              "      <td>ee/fl2/west/storeroom_office/z1/sensor1/monito...</td>\n",
              "      <td>2017-01-01 00:00:00+07</td>\n",
              "      <td>44.600</td>\n",
              "    </tr>\n",
              "    <tr>\n",
              "      <th>3</th>\n",
              "      <td>ee/fl2/west/storeroom_office/z1/sensor1/monito...</td>\n",
              "      <td>2017-01-01 00:00:59+07</td>\n",
              "      <td>44.600</td>\n",
              "    </tr>\n",
              "    <tr>\n",
              "      <th>4</th>\n",
              "      <td>ee/fl1/emu10x/sub14/phase_s/load15/monitor/energy</td>\n",
              "      <td>2017-01-01 00:01:00+07</td>\n",
              "      <td>0.019</td>\n",
              "    </tr>\n",
              "  </tbody>\n",
              "</table>\n",
              "</div>"
            ],
            "text/plain": [
              "                                                  id                    time  \\\n",
              "0  ee/fl1/emu10x/sub14/phase_s/load15/monitor/energy  2017-01-01 00:00:00+07   \n",
              "1  ee/fl1/corridor/elevator_front/z1/outlet1/moni...  2017-01-01 00:00:00+07   \n",
              "2  ee/fl2/west/storeroom_office/z1/sensor1/monito...  2017-01-01 00:00:00+07   \n",
              "3  ee/fl2/west/storeroom_office/z1/sensor1/monito...  2017-01-01 00:00:59+07   \n",
              "4  ee/fl1/emu10x/sub14/phase_s/load15/monitor/energy  2017-01-01 00:01:00+07   \n",
              "\n",
              "    value  \n",
              "0   0.017  \n",
              "1   1.051  \n",
              "2  44.600  \n",
              "3  44.600  \n",
              "4   0.019  "
            ]
          },
          "metadata": {
            "tags": []
          },
          "execution_count": 82
        }
      ]
    },
    {
      "metadata": {
        "id": "oaJH8lCaL7Zs",
        "colab_type": "text"
      },
      "cell_type": "markdown",
      "source": [
        "# Select one sensor"
      ]
    },
    {
      "metadata": {
        "id": "DwFImaIaL7Zu",
        "colab_type": "code",
        "colab": {}
      },
      "cell_type": "code",
      "source": [
        "id_ = 'ee/fl1/corridor/elevator_front/z1/outlet1/monitor/energy'"
      ],
      "execution_count": 0,
      "outputs": []
    },
    {
      "metadata": {
        "id": "cbNprC3qL7Z0",
        "colab_type": "code",
        "colab": {}
      },
      "cell_type": "code",
      "source": [
        "df = wholefile[wholefile.id == id_].reset_index(drop=True)\n",
        "df['value'] = pd.to_numeric(df['value'])\n",
        "df['time'] = pd.to_datetime(df['time'])\n",
        "\n",
        "series = df.set_index('time').value.sort_index()"
      ],
      "execution_count": 0,
      "outputs": []
    },
    {
      "metadata": {
        "id": "EWG_PF9LL7Z5",
        "colab_type": "code",
        "colab": {
          "base_uri": "https://localhost:8080/",
          "height": 136
        },
        "outputId": "4123caf1-cdeb-4cb2-b3a3-f63b6165d7c4"
      },
      "cell_type": "code",
      "source": [
        "series.head()"
      ],
      "execution_count": 116,
      "outputs": [
        {
          "output_type": "execute_result",
          "data": {
            "text/plain": [
              "time\n",
              "2016-12-31 17:00:00    1.051\n",
              "2016-12-31 17:01:00    1.809\n",
              "2016-12-31 17:02:00    1.830\n",
              "2016-12-31 17:03:00    1.834\n",
              "2016-12-31 17:04:00    1.832\n",
              "Name: value, dtype: float64"
            ]
          },
          "metadata": {
            "tags": []
          },
          "execution_count": 116
        }
      ]
    },
    {
      "metadata": {
        "id": "sAi6QVIzL7Z_",
        "colab_type": "code",
        "colab": {
          "base_uri": "https://localhost:8080/",
          "height": 342
        },
        "outputId": "640a4cfc-f3e7-4e6a-bf38-d35e0a5e9332"
      },
      "cell_type": "code",
      "source": [
        "series.plot(figsize=(15, 5))"
      ],
      "execution_count": 117,
      "outputs": [
        {
          "output_type": "execute_result",
          "data": {
            "text/plain": [
              "<matplotlib.axes._subplots.AxesSubplot at 0x7fe4bf607898>"
            ]
          },
          "metadata": {
            "tags": []
          },
          "execution_count": 117
        },
        {
          "output_type": "display_data",
          "data": {
            "image/png": "[encoded data removed]",
            "text/plain": [
              "<matplotlib.figure.Figure at 0x7fe4bf25bcf8>"
            ]
          },
          "metadata": {
            "tags": []
          }
        }
      ]
    },
    {
      "metadata": {
        "id": "1PmHiWq6L7aI",
        "colab_type": "text"
      },
      "cell_type": "markdown",
      "source": [
        "# Aggregate by hour"
      ]
    },
    {
      "metadata": {
        "id": "j24Waoa7L7aJ",
        "colab_type": "code",
        "colab": {}
      },
      "cell_type": "code",
      "source": [
        "index_hour = series.index.to_series().dt.floor(freq='H')\n",
        "series = series.groupby(index_hour).sum()"
      ],
      "execution_count": 0,
      "outputs": []
    },
    {
      "metadata": {
        "id": "9c5cbp3IL7aM",
        "colab_type": "code",
        "colab": {
          "base_uri": "https://localhost:8080/",
          "height": 136
        },
        "outputId": "bd14dd37-1633-4922-81b2-6ac086de6297"
      },
      "cell_type": "code",
      "source": [
        "series.head()"
      ],
      "execution_count": 119,
      "outputs": [
        {
          "output_type": "execute_result",
          "data": {
            "text/plain": [
              "time\n",
              "2016-12-31 17:00:00    90.541\n",
              "2016-12-31 18:00:00    67.321\n",
              "2016-12-31 19:00:00    66.532\n",
              "2016-12-31 20:00:00    68.264\n",
              "2016-12-31 21:00:00    83.638\n",
              "Name: value, dtype: float64"
            ]
          },
          "metadata": {
            "tags": []
          },
          "execution_count": 119
        }
      ]
    },
    {
      "metadata": {
        "id": "ppSdFQtgL7aS",
        "colab_type": "code",
        "colab": {
          "base_uri": "https://localhost:8080/",
          "height": 374
        },
        "outputId": "8c031c51-80e6-43f5-de70-fd6649f28b3a"
      },
      "cell_type": "code",
      "source": [
        "series.plot(figsize=(15, 5))"
      ],
      "execution_count": 120,
      "outputs": [
        {
          "output_type": "execute_result",
          "data": {
            "text/plain": [
              "<matplotlib.axes._subplots.AxesSubplot at 0x7fe4bf29d4e0>"
            ]
          },
          "metadata": {
            "tags": []
          },
          "execution_count": 120
        },
        {
          "output_type": "display_data",
          "data": {
            "image/png": "[encoded data removed]",
            "text/plain": [
              "<matplotlib.figure.Figure at 0x7fe4bf1e14e0>"
            ]
          },
          "metadata": {
            "tags": []
          }
        }
      ]
    },
    {
      "metadata": {
        "id": "QUT0oRZFL7aW",
        "colab_type": "text"
      },
      "cell_type": "markdown",
      "source": [
        "# Add missing timestamp"
      ]
    },
    {
      "metadata": {
        "id": "nAMTK64CL7aZ",
        "colab_type": "code",
        "colab": {}
      },
      "cell_type": "code",
      "source": [
        "datetime_index = pd.DatetimeIndex(start=series.index.min(), end=series.index.max(), freq='H').rename('time')\n",
        "series = series.reindex(datetime_index)"
      ],
      "execution_count": 0,
      "outputs": []
    },
    {
      "metadata": {
        "id": "E13RfFJ9L7af",
        "colab_type": "text"
      },
      "cell_type": "markdown",
      "source": [
        "# Detect outliers with DBSCAN"
      ]
    },
    {
      "metadata": {
        "id": "30AyrfBnL7af",
        "colab_type": "code",
        "colab": {}
      },
      "cell_type": "code",
      "source": [
        "def get_outliers(series, eps, min_samples, y_space=1):\n",
        "    \"\"\"\n",
        "    series : data (pandas.Series)\n",
        "    eps : maximum distance of points in the same cluster (numeric)\n",
        "    min_samples : the minimum number of points to be considered a cluster (integer)\n",
        "    \"\"\"\n",
        "    X = series.tolist()\n",
        "    y = np.arange(0, series.shape[0]*change_per_timestep, change_per_timestep)\n",
        "    \n",
        "    dbscan = DBSCAN(eps=eps, min_samples=min_samples).fit(list(zip(X, y)))\n",
        "    result = [i for i in range(len(dbscan.labels_)) if dbscan.labels_[i] < 0]\n",
        "    return series.iloc[result].index"
      ],
      "execution_count": 0,
      "outputs": []
    },
    {
      "metadata": {
        "id": "MW2YM7oQL7aj",
        "colab_type": "text"
      },
      "cell_type": "markdown",
      "source": [
        "## Calculate changes allowed between timesteps"
      ]
    },
    {
      "metadata": {
        "id": "15bobubOL7al",
        "colab_type": "code",
        "colab": {}
      },
      "cell_type": "code",
      "source": [
        "diff = (series - series.shift(1)).abs()\n",
        "change_per_timestep = diff.mean() + 2*diff.std()\n",
        "\n",
        "eps = change_per_timestep * 2**0.5"
      ],
      "execution_count": 0,
      "outputs": []
    },
    {
      "metadata": {
        "id": "mpz8NiHUL7aq",
        "colab_type": "text"
      },
      "cell_type": "markdown",
      "source": [
        "## Run"
      ]
    },
    {
      "metadata": {
        "id": "07Kb_UMFL7ar",
        "colab_type": "code",
        "colab": {}
      },
      "cell_type": "code",
      "source": [
        "outliers = get_outliers(series=series, eps=eps, min_samples=3, y_space=change_per_timestep)"
      ],
      "execution_count": 0,
      "outputs": []
    },
    {
      "metadata": {
        "id": "-crZMbt6L7aw",
        "colab_type": "text"
      },
      "cell_type": "markdown",
      "source": [
        "# Visualize"
      ]
    },
    {
      "metadata": {
        "id": "IJ7GxxDNL7ax",
        "colab_type": "code",
        "colab": {}
      },
      "cell_type": "code",
      "source": [
        "def plot_outliers(series, outliers, figsize=(15, 5)):\n",
        "    fig, ax = plt.subplots(figsize=figsize)\n",
        "    series.plot(ax=ax, color='b')\n",
        "    series.loc[outliers].plot(style='.', color='r')"
      ],
      "execution_count": 0,
      "outputs": []
    },
    {
      "metadata": {
        "id": "8cfNW8XML7az",
        "colab_type": "code",
        "colab": {
          "base_uri": "https://localhost:8080/",
          "height": 357
        },
        "outputId": "42315f81-151f-445a-c695-6b9e0c1acd33"
      },
      "cell_type": "code",
      "source": [
        "plot_outliers(series, outliers)"
      ],
      "execution_count": 126,
      "outputs": [
        {
          "output_type": "display_data",
          "data": {
            "image/png": "[encoded data removed]",
            "text/plain": [
              "<matplotlib.figure.Figure at 0x7fe4bf0cf780>"
            ]
          },
          "metadata": {
            "tags": []
          }
        }
      ]
    }
  ]
}